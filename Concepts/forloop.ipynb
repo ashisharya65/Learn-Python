{
 "cells": [
  {
   "cell_type": "markdown",
   "metadata": {},
   "source": [
    "## Looping over Lists\n",
    "Looping over the lists using For loop."
   ]
  },
  {
   "cell_type": "code",
   "execution_count": null,
   "metadata": {
    "dotnet_interactive": {
     "language": "csharp"
    },
    "polyglot_notebook": {
     "kernelName": "csharp"
    }
   },
   "outputs": [],
   "source": [
    "mylist = [1, 2, 3, 4, \"Python\", \"is\", \"neat\"]\n",
    "for item in mylist:\n",
    "    print(item,end=\" \")"
   ]
  },
  {
   "cell_type": "markdown",
   "metadata": {},
   "source": [
    "# break keyword\n",
    "Use <b>Break</b> keyword to stop the execution of loop."
   ]
  },
  {
   "cell_type": "code",
   "execution_count": null,
   "metadata": {},
   "outputs": [],
   "source": [
    "for item in mylist:\n",
    "    if item == \"Python\":\n",
    "        break\n",
    "    print(item,end=\" \")"
   ]
  },
  {
   "cell_type": "markdown",
   "metadata": {},
   "source": [
    "# continue keyword\n",
    "Use <b>continue</b> keyword to continue  to the next item without executing the lines occuring after continue inside the loop."
   ]
  },
  {
   "cell_type": "code",
   "execution_count": null,
   "metadata": {},
   "outputs": [],
   "source": [
    "for item in mylist:\n",
    "    if item == 1:\n",
    "        continue\n",
    "    print(item,end=\" \")"
   ]
  },
  {
   "cell_type": "markdown",
   "metadata": {},
   "source": [
    "# enumerate() method\n",
    "Use <b>enumerate()</b> method to get index of the list."
   ]
  },
  {
   "cell_type": "code",
   "execution_count": null,
   "metadata": {},
   "outputs": [],
   "source": [
    "for idx, val in enumerate(mylist):\n",
    "    print(f\"Key: {idx}, Value: {val}\")"
   ]
  },
  {
   "cell_type": "markdown",
   "metadata": {},
   "source": [
    "# Looping over dictionary"
   ]
  },
  {
   "cell_type": "code",
   "execution_count": null,
   "metadata": {},
   "outputs": [],
   "source": [
    "mydict = {\"name\" : \"Ashish Arya\",\n",
    "          \"Age\" : 22,\n",
    "          \"Location\" : \"Delhi\",\n",
    "          \"Email\" : \"abc@gmail.com\"\n",
    "        }\n",
    "\n",
    "# Getting the values from the dictionary\n",
    "for val in mydict:\n",
    "    print(val,end=\" \")\n",
    "print(\"\\n\")\n",
    "\n",
    "# Getting the keys and values of a dictionary\n",
    "for key,val in mydict.items():\n",
    "    print(f\"Key: {key}, Value: {val}\")"
   ]
  },
  {
   "cell_type": "markdown",
   "metadata": {},
   "source": [
    "# range() function\n",
    "Python's <b>range()</b> function is used with for loops."
   ]
  },
  {
   "cell_type": "code",
   "execution_count": 19,
   "metadata": {},
   "outputs": [
    {
     "name": "stdout",
     "output_type": "stream",
     "text": [
      "0 1 2 3 4 \n",
      "1 2 3 4 \n",
      "1 3 5 7 9 \n",
      "[0, 1, 2, 3, 4]\n"
     ]
    }
   ],
   "source": [
    "# Use the range() function with only the stop argument\n",
    "for num in range(5):\n",
    "    print(num,end=\" \")\n",
    "print()\n",
    "\n",
    "# Use the range() function with start & stop arguments\n",
    "for num in range(1,5):\n",
    "    print(num,end=\" \")\n",
    "print()\n",
    "\n",
    "# Use the range() function with start, stop & step arguments\n",
    "for num in range(1,10,2):\n",
    "    print(num,end=\" \")\n",
    "print()\n"
   ]
  }
 ],
 "metadata": {
  "kernelspec": {
   "display_name": "Python 3",
   "language": "python",
   "name": "python3"
  },
  "language_info": {
   "codemirror_mode": {
    "name": "ipython",
    "version": 3
   },
   "file_extension": ".py",
   "mimetype": "text/x-python",
   "name": "python",
   "nbconvert_exporter": "python",
   "pygments_lexer": "ipython3",
   "version": "3.12.2"
  },
  "polyglot_notebook": {
   "kernelInfo": {
    "defaultKernelName": "csharp",
    "items": [
     {
      "aliases": [],
      "name": "csharp"
     }
    ]
   }
  }
 },
 "nbformat": 4,
 "nbformat_minor": 2
}
